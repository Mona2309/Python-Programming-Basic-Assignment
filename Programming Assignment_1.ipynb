{
 "cells": [
  {
   "cell_type": "code",
   "execution_count": 1,
   "id": "3ad0ac76",
   "metadata": {},
   "outputs": [
    {
     "name": "stdout",
     "output_type": "stream",
     "text": [
      "enter the stringhello Python\n",
      "hello Python\n"
     ]
    }
   ],
   "source": [
    "#Python program to print \"hello python\"\n",
    "a=str(input(\"enter the string\"))\n",
    "print(a)"
   ]
  },
  {
   "cell_type": "code",
   "execution_count": 3,
   "id": "bfc86d0c",
   "metadata": {},
   "outputs": [
    {
     "name": "stdout",
     "output_type": "stream",
     "text": [
      "Enter a number a:89\n",
      "Enter a number b:100\n",
      "for addition 189\n",
      "for substraction 11\n"
     ]
    }
   ],
   "source": [
    "#Python program to find addition and substraction of a number\n",
    "a=int(input(\"Enter a number a:\"))\n",
    "b=int(input(\"Enter a number b:\"))\n",
    "\n",
    "c=a+b\n",
    "d=b-a\n",
    "\n",
    "print(\"for addition\",c)\n",
    "print(\"for substraction\",d)"
   ]
  },
  {
   "cell_type": "code",
   "execution_count": 4,
   "id": "52a6a79e",
   "metadata": {},
   "outputs": [
    {
     "name": "stdout",
     "output_type": "stream",
     "text": [
      "Enter first side: 2\n",
      "Enter second side: 3\n",
      "Enter third side: 2\n",
      "The area of the triangle is 1.98\n"
     ]
    }
   ],
   "source": [
    "#Python program to find the area of a triangle\n",
    "a = float(input('Enter first side: '))  \n",
    "b = float(input('Enter second side: '))  \n",
    "c = float(input('Enter third side: '))  \n",
    "  \n",
    "# calculate the semi-perimeter  \n",
    "s = (a + b + c) / 2  \n",
    "  \n",
    "# calculate the area  \n",
    "area = (s*(s-a)*(s-b)*(s-c)) ** 0.5  \n",
    "print('The area of the triangle is %0.2f' %area)   "
   ]
  },
  {
   "cell_type": "code",
   "execution_count": 6,
   "id": "1a617a25",
   "metadata": {},
   "outputs": [
    {
     "name": "stdout",
     "output_type": "stream",
     "text": [
      "Enter value of x: 90\n",
      "Enter value of y: 80\n",
      "The value of x after swapping: 80\n",
      "The value of y after swapping: 90\n"
     ]
    }
   ],
   "source": [
    "#Python program to swap two numbers\n",
    "x = input('Enter value of x: ')\n",
    "y = input('Enter value of y: ')\n",
    "\n",
    "temp = x\n",
    "x = y\n",
    "y = temp\n",
    "\n",
    "print('The value of x after swapping: {}'.format(x))\n",
    "print('The value of y after swapping: {}'.format(y))"
   ]
  },
  {
   "cell_type": "code",
   "execution_count": 7,
   "id": "634ff2e3",
   "metadata": {},
   "outputs": [
    {
     "name": "stdout",
     "output_type": "stream",
     "text": [
      "4\n",
      "t\n"
     ]
    }
   ],
   "source": [
    "#Python program to generate a random number\n",
    "import random\n",
    " \n",
    "list1 = [1, 2, 3, 4, 5, 6]\n",
    "print(random.choice(list1))\n",
    " \n",
    "string = \"striver\"\n",
    "print(random.choice(string))\n"
   ]
  },
  {
   "cell_type": "code",
   "execution_count": null,
   "id": "eb02660f",
   "metadata": {},
   "outputs": [],
   "source": []
  }
 ],
 "metadata": {
  "kernelspec": {
   "display_name": "Python 3 (ipykernel)",
   "language": "python",
   "name": "python3"
  },
  "language_info": {
   "codemirror_mode": {
    "name": "ipython",
    "version": 3
   },
   "file_extension": ".py",
   "mimetype": "text/x-python",
   "name": "python",
   "nbconvert_exporter": "python",
   "pygments_lexer": "ipython3",
   "version": "3.9.7"
  }
 },
 "nbformat": 4,
 "nbformat_minor": 5
}
